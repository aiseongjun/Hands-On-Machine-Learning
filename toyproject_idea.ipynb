{
  "nbformat": 4,
  "nbformat_minor": 0,
  "metadata": {
    "colab": {
      "provenance": [],
      "authorship_tag": "ABX9TyP2QS0GMYtEFSWKBn9Oaw44",
      "include_colab_link": true
    },
    "kernelspec": {
      "name": "python3",
      "display_name": "Python 3"
    },
    "language_info": {
      "name": "python"
    }
  },
  "cells": [
    {
      "cell_type": "markdown",
      "metadata": {
        "id": "view-in-github",
        "colab_type": "text"
      },
      "source": [
        "<a href=\"https://colab.research.google.com/github/aiseongjun/Hands-On-Machine-Learning/blob/main/toyproject_idea.ipynb\" target=\"_parent\"><img src=\"https://colab.research.google.com/assets/colab-badge.svg\" alt=\"Open In Colab\"/></a>"
      ]
    },
    {
      "cell_type": "markdown",
      "source": [
        "# **1. 라이프스타일에 따른 GPA 데이터**"
      ],
      "metadata": {
        "id": "I8shiNyWcaXZ"
      }
    },
    {
      "cell_type": "markdown",
      "source": [
        "## **데이터셋**"
      ],
      "metadata": {
        "id": "CAOUUy5Gwbsi"
      }
    },
    {
      "cell_type": "markdown",
      "source": [
        "https://www.kaggle.com/datasets/steve1215rogg/student-lifestyle-dataset/data"
      ],
      "metadata": {
        "id": "GgwivwdCweiT"
      }
    },
    {
      "cell_type": "code",
      "source": [
        "import pandas as pd\n",
        "\n",
        "gpa = pd.read_csv('/content/student_lifestyle_dataset.csv')\n",
        "gpa.head()"
      ],
      "metadata": {
        "colab": {
          "base_uri": "https://localhost:8080/",
          "height": 226
        },
        "id": "1udqXe0lwd4G",
        "outputId": "f014a064-c3ec-4dce-bece-04907e18a94d"
      },
      "execution_count": null,
      "outputs": [
        {
          "output_type": "execute_result",
          "data": {
            "text/plain": [
              "   Student_ID  Study_Hours_Per_Day  Extracurricular_Hours_Per_Day  \\\n",
              "0           1                  6.9                            3.8   \n",
              "1           2                  5.3                            3.5   \n",
              "2           3                  5.1                            3.9   \n",
              "3           4                  6.5                            2.1   \n",
              "4           5                  8.1                            0.6   \n",
              "\n",
              "   Sleep_Hours_Per_Day  Social_Hours_Per_Day  Physical_Activity_Hours_Per_Day  \\\n",
              "0                  8.7                   2.8                              1.8   \n",
              "1                  8.0                   4.2                              3.0   \n",
              "2                  9.2                   1.2                              4.6   \n",
              "3                  7.2                   1.7                              6.5   \n",
              "4                  6.5                   2.2                              6.6   \n",
              "\n",
              "    GPA Stress_Level  \n",
              "0  2.99     Moderate  \n",
              "1  2.75          Low  \n",
              "2  2.67          Low  \n",
              "3  2.88     Moderate  \n",
              "4  3.51         High  "
            ],
            "text/html": [
              "\n",
              "  <div id=\"df-3b8b5a89-3554-4116-bff0-15d8042c7587\" class=\"colab-df-container\">\n",
              "    <div>\n",
              "<style scoped>\n",
              "    .dataframe tbody tr th:only-of-type {\n",
              "        vertical-align: middle;\n",
              "    }\n",
              "\n",
              "    .dataframe tbody tr th {\n",
              "        vertical-align: top;\n",
              "    }\n",
              "\n",
              "    .dataframe thead th {\n",
              "        text-align: right;\n",
              "    }\n",
              "</style>\n",
              "<table border=\"1\" class=\"dataframe\">\n",
              "  <thead>\n",
              "    <tr style=\"text-align: right;\">\n",
              "      <th></th>\n",
              "      <th>Student_ID</th>\n",
              "      <th>Study_Hours_Per_Day</th>\n",
              "      <th>Extracurricular_Hours_Per_Day</th>\n",
              "      <th>Sleep_Hours_Per_Day</th>\n",
              "      <th>Social_Hours_Per_Day</th>\n",
              "      <th>Physical_Activity_Hours_Per_Day</th>\n",
              "      <th>GPA</th>\n",
              "      <th>Stress_Level</th>\n",
              "    </tr>\n",
              "  </thead>\n",
              "  <tbody>\n",
              "    <tr>\n",
              "      <th>0</th>\n",
              "      <td>1</td>\n",
              "      <td>6.9</td>\n",
              "      <td>3.8</td>\n",
              "      <td>8.7</td>\n",
              "      <td>2.8</td>\n",
              "      <td>1.8</td>\n",
              "      <td>2.99</td>\n",
              "      <td>Moderate</td>\n",
              "    </tr>\n",
              "    <tr>\n",
              "      <th>1</th>\n",
              "      <td>2</td>\n",
              "      <td>5.3</td>\n",
              "      <td>3.5</td>\n",
              "      <td>8.0</td>\n",
              "      <td>4.2</td>\n",
              "      <td>3.0</td>\n",
              "      <td>2.75</td>\n",
              "      <td>Low</td>\n",
              "    </tr>\n",
              "    <tr>\n",
              "      <th>2</th>\n",
              "      <td>3</td>\n",
              "      <td>5.1</td>\n",
              "      <td>3.9</td>\n",
              "      <td>9.2</td>\n",
              "      <td>1.2</td>\n",
              "      <td>4.6</td>\n",
              "      <td>2.67</td>\n",
              "      <td>Low</td>\n",
              "    </tr>\n",
              "    <tr>\n",
              "      <th>3</th>\n",
              "      <td>4</td>\n",
              "      <td>6.5</td>\n",
              "      <td>2.1</td>\n",
              "      <td>7.2</td>\n",
              "      <td>1.7</td>\n",
              "      <td>6.5</td>\n",
              "      <td>2.88</td>\n",
              "      <td>Moderate</td>\n",
              "    </tr>\n",
              "    <tr>\n",
              "      <th>4</th>\n",
              "      <td>5</td>\n",
              "      <td>8.1</td>\n",
              "      <td>0.6</td>\n",
              "      <td>6.5</td>\n",
              "      <td>2.2</td>\n",
              "      <td>6.6</td>\n",
              "      <td>3.51</td>\n",
              "      <td>High</td>\n",
              "    </tr>\n",
              "  </tbody>\n",
              "</table>\n",
              "</div>\n",
              "    <div class=\"colab-df-buttons\">\n",
              "\n",
              "  <div class=\"colab-df-container\">\n",
              "    <button class=\"colab-df-convert\" onclick=\"convertToInteractive('df-3b8b5a89-3554-4116-bff0-15d8042c7587')\"\n",
              "            title=\"Convert this dataframe to an interactive table.\"\n",
              "            style=\"display:none;\">\n",
              "\n",
              "  <svg xmlns=\"http://www.w3.org/2000/svg\" height=\"24px\" viewBox=\"0 -960 960 960\">\n",
              "    <path d=\"M120-120v-720h720v720H120Zm60-500h600v-160H180v160Zm220 220h160v-160H400v160Zm0 220h160v-160H400v160ZM180-400h160v-160H180v160Zm440 0h160v-160H620v160ZM180-180h160v-160H180v160Zm440 0h160v-160H620v160Z\"/>\n",
              "  </svg>\n",
              "    </button>\n",
              "\n",
              "  <style>\n",
              "    .colab-df-container {\n",
              "      display:flex;\n",
              "      gap: 12px;\n",
              "    }\n",
              "\n",
              "    .colab-df-convert {\n",
              "      background-color: #E8F0FE;\n",
              "      border: none;\n",
              "      border-radius: 50%;\n",
              "      cursor: pointer;\n",
              "      display: none;\n",
              "      fill: #1967D2;\n",
              "      height: 32px;\n",
              "      padding: 0 0 0 0;\n",
              "      width: 32px;\n",
              "    }\n",
              "\n",
              "    .colab-df-convert:hover {\n",
              "      background-color: #E2EBFA;\n",
              "      box-shadow: 0px 1px 2px rgba(60, 64, 67, 0.3), 0px 1px 3px 1px rgba(60, 64, 67, 0.15);\n",
              "      fill: #174EA6;\n",
              "    }\n",
              "\n",
              "    .colab-df-buttons div {\n",
              "      margin-bottom: 4px;\n",
              "    }\n",
              "\n",
              "    [theme=dark] .colab-df-convert {\n",
              "      background-color: #3B4455;\n",
              "      fill: #D2E3FC;\n",
              "    }\n",
              "\n",
              "    [theme=dark] .colab-df-convert:hover {\n",
              "      background-color: #434B5C;\n",
              "      box-shadow: 0px 1px 3px 1px rgba(0, 0, 0, 0.15);\n",
              "      filter: drop-shadow(0px 1px 2px rgba(0, 0, 0, 0.3));\n",
              "      fill: #FFFFFF;\n",
              "    }\n",
              "  </style>\n",
              "\n",
              "    <script>\n",
              "      const buttonEl =\n",
              "        document.querySelector('#df-3b8b5a89-3554-4116-bff0-15d8042c7587 button.colab-df-convert');\n",
              "      buttonEl.style.display =\n",
              "        google.colab.kernel.accessAllowed ? 'block' : 'none';\n",
              "\n",
              "      async function convertToInteractive(key) {\n",
              "        const element = document.querySelector('#df-3b8b5a89-3554-4116-bff0-15d8042c7587');\n",
              "        const dataTable =\n",
              "          await google.colab.kernel.invokeFunction('convertToInteractive',\n",
              "                                                    [key], {});\n",
              "        if (!dataTable) return;\n",
              "\n",
              "        const docLinkHtml = 'Like what you see? Visit the ' +\n",
              "          '<a target=\"_blank\" href=https://colab.research.google.com/notebooks/data_table.ipynb>data table notebook</a>'\n",
              "          + ' to learn more about interactive tables.';\n",
              "        element.innerHTML = '';\n",
              "        dataTable['output_type'] = 'display_data';\n",
              "        await google.colab.output.renderOutput(dataTable, element);\n",
              "        const docLink = document.createElement('div');\n",
              "        docLink.innerHTML = docLinkHtml;\n",
              "        element.appendChild(docLink);\n",
              "      }\n",
              "    </script>\n",
              "  </div>\n",
              "\n",
              "\n",
              "<div id=\"df-b30cd3f2-1633-4b05-846b-b134b01e7410\">\n",
              "  <button class=\"colab-df-quickchart\" onclick=\"quickchart('df-b30cd3f2-1633-4b05-846b-b134b01e7410')\"\n",
              "            title=\"Suggest charts\"\n",
              "            style=\"display:none;\">\n",
              "\n",
              "<svg xmlns=\"http://www.w3.org/2000/svg\" height=\"24px\"viewBox=\"0 0 24 24\"\n",
              "     width=\"24px\">\n",
              "    <g>\n",
              "        <path d=\"M19 3H5c-1.1 0-2 .9-2 2v14c0 1.1.9 2 2 2h14c1.1 0 2-.9 2-2V5c0-1.1-.9-2-2-2zM9 17H7v-7h2v7zm4 0h-2V7h2v10zm4 0h-2v-4h2v4z\"/>\n",
              "    </g>\n",
              "</svg>\n",
              "  </button>\n",
              "\n",
              "<style>\n",
              "  .colab-df-quickchart {\n",
              "      --bg-color: #E8F0FE;\n",
              "      --fill-color: #1967D2;\n",
              "      --hover-bg-color: #E2EBFA;\n",
              "      --hover-fill-color: #174EA6;\n",
              "      --disabled-fill-color: #AAA;\n",
              "      --disabled-bg-color: #DDD;\n",
              "  }\n",
              "\n",
              "  [theme=dark] .colab-df-quickchart {\n",
              "      --bg-color: #3B4455;\n",
              "      --fill-color: #D2E3FC;\n",
              "      --hover-bg-color: #434B5C;\n",
              "      --hover-fill-color: #FFFFFF;\n",
              "      --disabled-bg-color: #3B4455;\n",
              "      --disabled-fill-color: #666;\n",
              "  }\n",
              "\n",
              "  .colab-df-quickchart {\n",
              "    background-color: var(--bg-color);\n",
              "    border: none;\n",
              "    border-radius: 50%;\n",
              "    cursor: pointer;\n",
              "    display: none;\n",
              "    fill: var(--fill-color);\n",
              "    height: 32px;\n",
              "    padding: 0;\n",
              "    width: 32px;\n",
              "  }\n",
              "\n",
              "  .colab-df-quickchart:hover {\n",
              "    background-color: var(--hover-bg-color);\n",
              "    box-shadow: 0 1px 2px rgba(60, 64, 67, 0.3), 0 1px 3px 1px rgba(60, 64, 67, 0.15);\n",
              "    fill: var(--button-hover-fill-color);\n",
              "  }\n",
              "\n",
              "  .colab-df-quickchart-complete:disabled,\n",
              "  .colab-df-quickchart-complete:disabled:hover {\n",
              "    background-color: var(--disabled-bg-color);\n",
              "    fill: var(--disabled-fill-color);\n",
              "    box-shadow: none;\n",
              "  }\n",
              "\n",
              "  .colab-df-spinner {\n",
              "    border: 2px solid var(--fill-color);\n",
              "    border-color: transparent;\n",
              "    border-bottom-color: var(--fill-color);\n",
              "    animation:\n",
              "      spin 1s steps(1) infinite;\n",
              "  }\n",
              "\n",
              "  @keyframes spin {\n",
              "    0% {\n",
              "      border-color: transparent;\n",
              "      border-bottom-color: var(--fill-color);\n",
              "      border-left-color: var(--fill-color);\n",
              "    }\n",
              "    20% {\n",
              "      border-color: transparent;\n",
              "      border-left-color: var(--fill-color);\n",
              "      border-top-color: var(--fill-color);\n",
              "    }\n",
              "    30% {\n",
              "      border-color: transparent;\n",
              "      border-left-color: var(--fill-color);\n",
              "      border-top-color: var(--fill-color);\n",
              "      border-right-color: var(--fill-color);\n",
              "    }\n",
              "    40% {\n",
              "      border-color: transparent;\n",
              "      border-right-color: var(--fill-color);\n",
              "      border-top-color: var(--fill-color);\n",
              "    }\n",
              "    60% {\n",
              "      border-color: transparent;\n",
              "      border-right-color: var(--fill-color);\n",
              "    }\n",
              "    80% {\n",
              "      border-color: transparent;\n",
              "      border-right-color: var(--fill-color);\n",
              "      border-bottom-color: var(--fill-color);\n",
              "    }\n",
              "    90% {\n",
              "      border-color: transparent;\n",
              "      border-bottom-color: var(--fill-color);\n",
              "    }\n",
              "  }\n",
              "</style>\n",
              "\n",
              "  <script>\n",
              "    async function quickchart(key) {\n",
              "      const quickchartButtonEl =\n",
              "        document.querySelector('#' + key + ' button');\n",
              "      quickchartButtonEl.disabled = true;  // To prevent multiple clicks.\n",
              "      quickchartButtonEl.classList.add('colab-df-spinner');\n",
              "      try {\n",
              "        const charts = await google.colab.kernel.invokeFunction(\n",
              "            'suggestCharts', [key], {});\n",
              "      } catch (error) {\n",
              "        console.error('Error during call to suggestCharts:', error);\n",
              "      }\n",
              "      quickchartButtonEl.classList.remove('colab-df-spinner');\n",
              "      quickchartButtonEl.classList.add('colab-df-quickchart-complete');\n",
              "    }\n",
              "    (() => {\n",
              "      let quickchartButtonEl =\n",
              "        document.querySelector('#df-b30cd3f2-1633-4b05-846b-b134b01e7410 button');\n",
              "      quickchartButtonEl.style.display =\n",
              "        google.colab.kernel.accessAllowed ? 'block' : 'none';\n",
              "    })();\n",
              "  </script>\n",
              "</div>\n",
              "\n",
              "    </div>\n",
              "  </div>\n"
            ],
            "application/vnd.google.colaboratory.intrinsic+json": {
              "type": "dataframe",
              "variable_name": "gpa",
              "summary": "{\n  \"name\": \"gpa\",\n  \"rows\": 2000,\n  \"fields\": [\n    {\n      \"column\": \"Student_ID\",\n      \"properties\": {\n        \"dtype\": \"number\",\n        \"std\": 577,\n        \"min\": 1,\n        \"max\": 2000,\n        \"num_unique_values\": 2000,\n        \"samples\": [\n          1861,\n          354,\n          1334\n        ],\n        \"semantic_type\": \"\",\n        \"description\": \"\"\n      }\n    },\n    {\n      \"column\": \"Study_Hours_Per_Day\",\n      \"properties\": {\n        \"dtype\": \"number\",\n        \"std\": 1.423888369586789,\n        \"min\": 5.0,\n        \"max\": 10.0,\n        \"num_unique_values\": 51,\n        \"samples\": [\n          10.0,\n          8.5,\n          7.2\n        ],\n        \"semantic_type\": \"\",\n        \"description\": \"\"\n      }\n    },\n    {\n      \"column\": \"Extracurricular_Hours_Per_Day\",\n      \"properties\": {\n        \"dtype\": \"number\",\n        \"std\": 1.1558546578160225,\n        \"min\": 0.0,\n        \"max\": 4.0,\n        \"num_unique_values\": 41,\n        \"samples\": [\n          1.5,\n          1.7,\n          1.1\n        ],\n        \"semantic_type\": \"\",\n        \"description\": \"\"\n      }\n    },\n    {\n      \"column\": \"Sleep_Hours_Per_Day\",\n      \"properties\": {\n        \"dtype\": \"number\",\n        \"std\": 1.4609485353055407,\n        \"min\": 5.0,\n        \"max\": 10.0,\n        \"num_unique_values\": 51,\n        \"samples\": [\n          9.9,\n          10.0,\n          5.9\n        ],\n        \"semantic_type\": \"\",\n        \"description\": \"\"\n      }\n    },\n    {\n      \"column\": \"Social_Hours_Per_Day\",\n      \"properties\": {\n        \"dtype\": \"number\",\n        \"std\": 1.6885140915665202,\n        \"min\": 0.0,\n        \"max\": 6.0,\n        \"num_unique_values\": 61,\n        \"samples\": [\n          2.8,\n          0.3,\n          5.3\n        ],\n        \"semantic_type\": \"\",\n        \"description\": \"\"\n      }\n    },\n    {\n      \"column\": \"Physical_Activity_Hours_Per_Day\",\n      \"properties\": {\n        \"dtype\": \"number\",\n        \"std\": 2.5141100780877554,\n        \"min\": 0.0,\n        \"max\": 13.0,\n        \"num_unique_values\": 118,\n        \"samples\": [\n          0.3,\n          1.4,\n          6.6\n        ],\n        \"semantic_type\": \"\",\n        \"description\": \"\"\n      }\n    },\n    {\n      \"column\": \"GPA\",\n      \"properties\": {\n        \"dtype\": \"number\",\n        \"std\": 0.2986735363916102,\n        \"min\": 2.24,\n        \"max\": 4.0,\n        \"num_unique_values\": 158,\n        \"samples\": [\n          2.74,\n          4.0,\n          3.79\n        ],\n        \"semantic_type\": \"\",\n        \"description\": \"\"\n      }\n    },\n    {\n      \"column\": \"Stress_Level\",\n      \"properties\": {\n        \"dtype\": \"category\",\n        \"num_unique_values\": 3,\n        \"samples\": [\n          \"Moderate\",\n          \"Low\",\n          \"High\"\n        ],\n        \"semantic_type\": \"\",\n        \"description\": \"\"\n      }\n    }\n  ]\n}"
            }
          },
          "metadata": {},
          "execution_count": 53
        }
      ]
    },
    {
      "cell_type": "code",
      "source": [
        "gpa.columns"
      ],
      "metadata": {
        "colab": {
          "base_uri": "https://localhost:8080/"
        },
        "id": "MSN7GXKXxzdF",
        "outputId": "bbf971fe-914b-4dc5-d60b-95fe48b0bb02"
      },
      "execution_count": null,
      "outputs": [
        {
          "output_type": "execute_result",
          "data": {
            "text/plain": [
              "Index(['Student_ID', 'Study_Hours_Per_Day', 'Extracurricular_Hours_Per_Day',\n",
              "       'Sleep_Hours_Per_Day', 'Social_Hours_Per_Day',\n",
              "       'Physical_Activity_Hours_Per_Day', 'GPA', 'Stress_Level'],\n",
              "      dtype='object')"
            ]
          },
          "metadata": {},
          "execution_count": 54
        }
      ]
    },
    {
      "cell_type": "markdown",
      "source": [
        "* 'Student_ID': 학생 고유 번호\n",
        "* 'Study_Hours_Per_Day': 하루 공부 시간\n",
        "* 'Extracurricular_Hours_Per_Day': 하루 중 과외 활동 시간\n",
        "* 'Sleep_Hours_Per_Day': 하루 수면 시간\n",
        "* 'Social_Hours_Per_Day': 하루 사회적 활동 시간\n",
        "* 'Physical_Activity_Hours_Per_Day': 하루 신체 활동 시간\n",
        "* 'Stress_Level': 스트레스 수치\n",
        "* 'GPA': 학점"
      ],
      "metadata": {
        "id": "-M50kL7mxx1g"
      }
    },
    {
      "cell_type": "markdown",
      "source": [
        "## **프로젝트 목적**"
      ],
      "metadata": {
        "id": "u5qtyX-NwqUU"
      }
    },
    {
      "cell_type": "markdown",
      "source": [
        "```\n",
        "이 프로젝트의 목표는 대학생들의 다양한 라이프스타일 요소가 GPA에 미치는 영향을 분석하고,\n",
        "이를 통해 GPA를 예측하는 모델을 만드는 것\n",
        "```"
      ],
      "metadata": {
        "id": "uuZJYDWYwrnw"
      }
    },
    {
      "cell_type": "markdown",
      "source": [
        "## **간단한 모델**"
      ],
      "metadata": {
        "id": "YF1uiOfkyfUw"
      }
    },
    {
      "cell_type": "code",
      "source": [
        "from sklearn.model_selection import train_test_split\n",
        "from sklearn.ensemble import RandomForestRegressor\n",
        "\n",
        "gpa = pd.get_dummies(gpa, columns=['Stress_Level'], prefix='Stress_Level')\n",
        "X = gpa.drop(['Student_ID', 'GPA'], axis=1)\n",
        "y = gpa['GPA']\n",
        "X_train, X_test, y_train, y_test = train_test_split(X, y, test_size=0.2, random_state=42)\n",
        "\n",
        "rf = RandomForestRegressor(random_state=42).fit(X_train, y_train)\n",
        "\n",
        "feature_importances = pd.Series(rf.feature_importances_, index=X.columns)\n",
        "print('특성 중요도')\n",
        "print(feature_importances)"
      ],
      "metadata": {
        "colab": {
          "base_uri": "https://localhost:8080/"
        },
        "id": "ITt3e0YnyhTl",
        "outputId": "4cae720d-e81e-476a-c911-5ace301cd747"
      },
      "execution_count": null,
      "outputs": [
        {
          "output_type": "stream",
          "name": "stdout",
          "text": [
            "특성 중요도\n",
            "Study_Hours_Per_Day                0.597014\n",
            "Extracurricular_Hours_Per_Day      0.098186\n",
            "Sleep_Hours_Per_Day                0.094497\n",
            "Social_Hours_Per_Day               0.103790\n",
            "Physical_Activity_Hours_Per_Day    0.100714\n",
            "Stress_Level_High                  0.002252\n",
            "Stress_Level_Low                   0.001111\n",
            "Stress_Level_Moderate              0.002437\n",
            "dtype: float64\n"
          ]
        }
      ]
    },
    {
      "cell_type": "code",
      "source": [
        "rf.score(X_test, y_test)"
      ],
      "metadata": {
        "colab": {
          "base_uri": "https://localhost:8080/"
        },
        "id": "RfO2krKB1X03",
        "outputId": "4dc4c14c-481d-4a7c-9dee-95c81fd810c9"
      },
      "execution_count": null,
      "outputs": [
        {
          "output_type": "execute_result",
          "data": {
            "text/plain": [
              "0.4412449841822442"
            ]
          },
          "metadata": {},
          "execution_count": 56
        }
      ]
    },
    {
      "cell_type": "markdown",
      "source": [
        "# **2. 우울증 데이터**"
      ],
      "metadata": {
        "id": "zN6H3eGr2pV7"
      }
    },
    {
      "cell_type": "markdown",
      "source": [
        "## **데이터셋**"
      ],
      "metadata": {
        "id": "cDj3LBnl8Y0E"
      }
    },
    {
      "cell_type": "markdown",
      "source": [
        "https://www.kaggle.com/datasets/anthonytherrien/depression-dataset"
      ],
      "metadata": {
        "id": "P-6roKk88cTh"
      }
    },
    {
      "cell_type": "code",
      "source": [
        "import pandas as pd\n",
        "\n",
        "depression = pd.read_csv('/content/depression_data.csv')\n",
        "depression.head()"
      ],
      "metadata": {
        "colab": {
          "base_uri": "https://localhost:8080/",
          "height": 365
        },
        "id": "gvrCBUUZ8a6K",
        "outputId": "18659d95-4865-48db-d75a-c978b0a9d36d"
      },
      "execution_count": null,
      "outputs": [
        {
          "output_type": "execute_result",
          "data": {
            "text/plain": [
              "               Name  Age Marital Status    Education Level  \\\n",
              "0  Christine Barker   31        Married  Bachelor's Degree   \n",
              "1  Jacqueline Lewis   55        Married        High School   \n",
              "2    Shannon Church   78        Widowed    Master's Degree   \n",
              "3    Charles Jordan   58       Divorced    Master's Degree   \n",
              "4      Michael Rich   18         Single        High School   \n",
              "\n",
              "   Number of Children Smoking Status Physical Activity Level  \\\n",
              "0                   2     Non-smoker                  Active   \n",
              "1                   1     Non-smoker               Sedentary   \n",
              "2                   1     Non-smoker               Sedentary   \n",
              "3                   3     Non-smoker                Moderate   \n",
              "4                   0     Non-smoker               Sedentary   \n",
              "\n",
              "  Employment Status     Income Alcohol Consumption Dietary Habits  \\\n",
              "0        Unemployed   26265.67            Moderate       Moderate   \n",
              "1          Employed   42710.36                High      Unhealthy   \n",
              "2          Employed  125332.79                 Low      Unhealthy   \n",
              "3        Unemployed    9992.78            Moderate       Moderate   \n",
              "4        Unemployed    8595.08                 Low       Moderate   \n",
              "\n",
              "  Sleep Patterns History of Mental Illness History of Substance Abuse  \\\n",
              "0           Fair                       Yes                         No   \n",
              "1           Fair                       Yes                         No   \n",
              "2           Good                        No                         No   \n",
              "3           Poor                        No                         No   \n",
              "4           Fair                       Yes                         No   \n",
              "\n",
              "  Family History of Depression Chronic Medical Conditions  \n",
              "0                          Yes                        Yes  \n",
              "1                           No                        Yes  \n",
              "2                          Yes                         No  \n",
              "3                           No                         No  \n",
              "4                          Yes                        Yes  "
            ],
            "text/html": [
              "\n",
              "  <div id=\"df-39575b2a-c2f3-41e9-adf0-ee98967e2a46\" class=\"colab-df-container\">\n",
              "    <div>\n",
              "<style scoped>\n",
              "    .dataframe tbody tr th:only-of-type {\n",
              "        vertical-align: middle;\n",
              "    }\n",
              "\n",
              "    .dataframe tbody tr th {\n",
              "        vertical-align: top;\n",
              "    }\n",
              "\n",
              "    .dataframe thead th {\n",
              "        text-align: right;\n",
              "    }\n",
              "</style>\n",
              "<table border=\"1\" class=\"dataframe\">\n",
              "  <thead>\n",
              "    <tr style=\"text-align: right;\">\n",
              "      <th></th>\n",
              "      <th>Name</th>\n",
              "      <th>Age</th>\n",
              "      <th>Marital Status</th>\n",
              "      <th>Education Level</th>\n",
              "      <th>Number of Children</th>\n",
              "      <th>Smoking Status</th>\n",
              "      <th>Physical Activity Level</th>\n",
              "      <th>Employment Status</th>\n",
              "      <th>Income</th>\n",
              "      <th>Alcohol Consumption</th>\n",
              "      <th>Dietary Habits</th>\n",
              "      <th>Sleep Patterns</th>\n",
              "      <th>History of Mental Illness</th>\n",
              "      <th>History of Substance Abuse</th>\n",
              "      <th>Family History of Depression</th>\n",
              "      <th>Chronic Medical Conditions</th>\n",
              "    </tr>\n",
              "  </thead>\n",
              "  <tbody>\n",
              "    <tr>\n",
              "      <th>0</th>\n",
              "      <td>Christine Barker</td>\n",
              "      <td>31</td>\n",
              "      <td>Married</td>\n",
              "      <td>Bachelor's Degree</td>\n",
              "      <td>2</td>\n",
              "      <td>Non-smoker</td>\n",
              "      <td>Active</td>\n",
              "      <td>Unemployed</td>\n",
              "      <td>26265.67</td>\n",
              "      <td>Moderate</td>\n",
              "      <td>Moderate</td>\n",
              "      <td>Fair</td>\n",
              "      <td>Yes</td>\n",
              "      <td>No</td>\n",
              "      <td>Yes</td>\n",
              "      <td>Yes</td>\n",
              "    </tr>\n",
              "    <tr>\n",
              "      <th>1</th>\n",
              "      <td>Jacqueline Lewis</td>\n",
              "      <td>55</td>\n",
              "      <td>Married</td>\n",
              "      <td>High School</td>\n",
              "      <td>1</td>\n",
              "      <td>Non-smoker</td>\n",
              "      <td>Sedentary</td>\n",
              "      <td>Employed</td>\n",
              "      <td>42710.36</td>\n",
              "      <td>High</td>\n",
              "      <td>Unhealthy</td>\n",
              "      <td>Fair</td>\n",
              "      <td>Yes</td>\n",
              "      <td>No</td>\n",
              "      <td>No</td>\n",
              "      <td>Yes</td>\n",
              "    </tr>\n",
              "    <tr>\n",
              "      <th>2</th>\n",
              "      <td>Shannon Church</td>\n",
              "      <td>78</td>\n",
              "      <td>Widowed</td>\n",
              "      <td>Master's Degree</td>\n",
              "      <td>1</td>\n",
              "      <td>Non-smoker</td>\n",
              "      <td>Sedentary</td>\n",
              "      <td>Employed</td>\n",
              "      <td>125332.79</td>\n",
              "      <td>Low</td>\n",
              "      <td>Unhealthy</td>\n",
              "      <td>Good</td>\n",
              "      <td>No</td>\n",
              "      <td>No</td>\n",
              "      <td>Yes</td>\n",
              "      <td>No</td>\n",
              "    </tr>\n",
              "    <tr>\n",
              "      <th>3</th>\n",
              "      <td>Charles Jordan</td>\n",
              "      <td>58</td>\n",
              "      <td>Divorced</td>\n",
              "      <td>Master's Degree</td>\n",
              "      <td>3</td>\n",
              "      <td>Non-smoker</td>\n",
              "      <td>Moderate</td>\n",
              "      <td>Unemployed</td>\n",
              "      <td>9992.78</td>\n",
              "      <td>Moderate</td>\n",
              "      <td>Moderate</td>\n",
              "      <td>Poor</td>\n",
              "      <td>No</td>\n",
              "      <td>No</td>\n",
              "      <td>No</td>\n",
              "      <td>No</td>\n",
              "    </tr>\n",
              "    <tr>\n",
              "      <th>4</th>\n",
              "      <td>Michael Rich</td>\n",
              "      <td>18</td>\n",
              "      <td>Single</td>\n",
              "      <td>High School</td>\n",
              "      <td>0</td>\n",
              "      <td>Non-smoker</td>\n",
              "      <td>Sedentary</td>\n",
              "      <td>Unemployed</td>\n",
              "      <td>8595.08</td>\n",
              "      <td>Low</td>\n",
              "      <td>Moderate</td>\n",
              "      <td>Fair</td>\n",
              "      <td>Yes</td>\n",
              "      <td>No</td>\n",
              "      <td>Yes</td>\n",
              "      <td>Yes</td>\n",
              "    </tr>\n",
              "  </tbody>\n",
              "</table>\n",
              "</div>\n",
              "    <div class=\"colab-df-buttons\">\n",
              "\n",
              "  <div class=\"colab-df-container\">\n",
              "    <button class=\"colab-df-convert\" onclick=\"convertToInteractive('df-39575b2a-c2f3-41e9-adf0-ee98967e2a46')\"\n",
              "            title=\"Convert this dataframe to an interactive table.\"\n",
              "            style=\"display:none;\">\n",
              "\n",
              "  <svg xmlns=\"http://www.w3.org/2000/svg\" height=\"24px\" viewBox=\"0 -960 960 960\">\n",
              "    <path d=\"M120-120v-720h720v720H120Zm60-500h600v-160H180v160Zm220 220h160v-160H400v160Zm0 220h160v-160H400v160ZM180-400h160v-160H180v160Zm440 0h160v-160H620v160ZM180-180h160v-160H180v160Zm440 0h160v-160H620v160Z\"/>\n",
              "  </svg>\n",
              "    </button>\n",
              "\n",
              "  <style>\n",
              "    .colab-df-container {\n",
              "      display:flex;\n",
              "      gap: 12px;\n",
              "    }\n",
              "\n",
              "    .colab-df-convert {\n",
              "      background-color: #E8F0FE;\n",
              "      border: none;\n",
              "      border-radius: 50%;\n",
              "      cursor: pointer;\n",
              "      display: none;\n",
              "      fill: #1967D2;\n",
              "      height: 32px;\n",
              "      padding: 0 0 0 0;\n",
              "      width: 32px;\n",
              "    }\n",
              "\n",
              "    .colab-df-convert:hover {\n",
              "      background-color: #E2EBFA;\n",
              "      box-shadow: 0px 1px 2px rgba(60, 64, 67, 0.3), 0px 1px 3px 1px rgba(60, 64, 67, 0.15);\n",
              "      fill: #174EA6;\n",
              "    }\n",
              "\n",
              "    .colab-df-buttons div {\n",
              "      margin-bottom: 4px;\n",
              "    }\n",
              "\n",
              "    [theme=dark] .colab-df-convert {\n",
              "      background-color: #3B4455;\n",
              "      fill: #D2E3FC;\n",
              "    }\n",
              "\n",
              "    [theme=dark] .colab-df-convert:hover {\n",
              "      background-color: #434B5C;\n",
              "      box-shadow: 0px 1px 3px 1px rgba(0, 0, 0, 0.15);\n",
              "      filter: drop-shadow(0px 1px 2px rgba(0, 0, 0, 0.3));\n",
              "      fill: #FFFFFF;\n",
              "    }\n",
              "  </style>\n",
              "\n",
              "    <script>\n",
              "      const buttonEl =\n",
              "        document.querySelector('#df-39575b2a-c2f3-41e9-adf0-ee98967e2a46 button.colab-df-convert');\n",
              "      buttonEl.style.display =\n",
              "        google.colab.kernel.accessAllowed ? 'block' : 'none';\n",
              "\n",
              "      async function convertToInteractive(key) {\n",
              "        const element = document.querySelector('#df-39575b2a-c2f3-41e9-adf0-ee98967e2a46');\n",
              "        const dataTable =\n",
              "          await google.colab.kernel.invokeFunction('convertToInteractive',\n",
              "                                                    [key], {});\n",
              "        if (!dataTable) return;\n",
              "\n",
              "        const docLinkHtml = 'Like what you see? Visit the ' +\n",
              "          '<a target=\"_blank\" href=https://colab.research.google.com/notebooks/data_table.ipynb>data table notebook</a>'\n",
              "          + ' to learn more about interactive tables.';\n",
              "        element.innerHTML = '';\n",
              "        dataTable['output_type'] = 'display_data';\n",
              "        await google.colab.output.renderOutput(dataTable, element);\n",
              "        const docLink = document.createElement('div');\n",
              "        docLink.innerHTML = docLinkHtml;\n",
              "        element.appendChild(docLink);\n",
              "      }\n",
              "    </script>\n",
              "  </div>\n",
              "\n",
              "\n",
              "<div id=\"df-da58221d-c4c0-4a72-a3b4-e0bc810330e1\">\n",
              "  <button class=\"colab-df-quickchart\" onclick=\"quickchart('df-da58221d-c4c0-4a72-a3b4-e0bc810330e1')\"\n",
              "            title=\"Suggest charts\"\n",
              "            style=\"display:none;\">\n",
              "\n",
              "<svg xmlns=\"http://www.w3.org/2000/svg\" height=\"24px\"viewBox=\"0 0 24 24\"\n",
              "     width=\"24px\">\n",
              "    <g>\n",
              "        <path d=\"M19 3H5c-1.1 0-2 .9-2 2v14c0 1.1.9 2 2 2h14c1.1 0 2-.9 2-2V5c0-1.1-.9-2-2-2zM9 17H7v-7h2v7zm4 0h-2V7h2v10zm4 0h-2v-4h2v4z\"/>\n",
              "    </g>\n",
              "</svg>\n",
              "  </button>\n",
              "\n",
              "<style>\n",
              "  .colab-df-quickchart {\n",
              "      --bg-color: #E8F0FE;\n",
              "      --fill-color: #1967D2;\n",
              "      --hover-bg-color: #E2EBFA;\n",
              "      --hover-fill-color: #174EA6;\n",
              "      --disabled-fill-color: #AAA;\n",
              "      --disabled-bg-color: #DDD;\n",
              "  }\n",
              "\n",
              "  [theme=dark] .colab-df-quickchart {\n",
              "      --bg-color: #3B4455;\n",
              "      --fill-color: #D2E3FC;\n",
              "      --hover-bg-color: #434B5C;\n",
              "      --hover-fill-color: #FFFFFF;\n",
              "      --disabled-bg-color: #3B4455;\n",
              "      --disabled-fill-color: #666;\n",
              "  }\n",
              "\n",
              "  .colab-df-quickchart {\n",
              "    background-color: var(--bg-color);\n",
              "    border: none;\n",
              "    border-radius: 50%;\n",
              "    cursor: pointer;\n",
              "    display: none;\n",
              "    fill: var(--fill-color);\n",
              "    height: 32px;\n",
              "    padding: 0;\n",
              "    width: 32px;\n",
              "  }\n",
              "\n",
              "  .colab-df-quickchart:hover {\n",
              "    background-color: var(--hover-bg-color);\n",
              "    box-shadow: 0 1px 2px rgba(60, 64, 67, 0.3), 0 1px 3px 1px rgba(60, 64, 67, 0.15);\n",
              "    fill: var(--button-hover-fill-color);\n",
              "  }\n",
              "\n",
              "  .colab-df-quickchart-complete:disabled,\n",
              "  .colab-df-quickchart-complete:disabled:hover {\n",
              "    background-color: var(--disabled-bg-color);\n",
              "    fill: var(--disabled-fill-color);\n",
              "    box-shadow: none;\n",
              "  }\n",
              "\n",
              "  .colab-df-spinner {\n",
              "    border: 2px solid var(--fill-color);\n",
              "    border-color: transparent;\n",
              "    border-bottom-color: var(--fill-color);\n",
              "    animation:\n",
              "      spin 1s steps(1) infinite;\n",
              "  }\n",
              "\n",
              "  @keyframes spin {\n",
              "    0% {\n",
              "      border-color: transparent;\n",
              "      border-bottom-color: var(--fill-color);\n",
              "      border-left-color: var(--fill-color);\n",
              "    }\n",
              "    20% {\n",
              "      border-color: transparent;\n",
              "      border-left-color: var(--fill-color);\n",
              "      border-top-color: var(--fill-color);\n",
              "    }\n",
              "    30% {\n",
              "      border-color: transparent;\n",
              "      border-left-color: var(--fill-color);\n",
              "      border-top-color: var(--fill-color);\n",
              "      border-right-color: var(--fill-color);\n",
              "    }\n",
              "    40% {\n",
              "      border-color: transparent;\n",
              "      border-right-color: var(--fill-color);\n",
              "      border-top-color: var(--fill-color);\n",
              "    }\n",
              "    60% {\n",
              "      border-color: transparent;\n",
              "      border-right-color: var(--fill-color);\n",
              "    }\n",
              "    80% {\n",
              "      border-color: transparent;\n",
              "      border-right-color: var(--fill-color);\n",
              "      border-bottom-color: var(--fill-color);\n",
              "    }\n",
              "    90% {\n",
              "      border-color: transparent;\n",
              "      border-bottom-color: var(--fill-color);\n",
              "    }\n",
              "  }\n",
              "</style>\n",
              "\n",
              "  <script>\n",
              "    async function quickchart(key) {\n",
              "      const quickchartButtonEl =\n",
              "        document.querySelector('#' + key + ' button');\n",
              "      quickchartButtonEl.disabled = true;  // To prevent multiple clicks.\n",
              "      quickchartButtonEl.classList.add('colab-df-spinner');\n",
              "      try {\n",
              "        const charts = await google.colab.kernel.invokeFunction(\n",
              "            'suggestCharts', [key], {});\n",
              "      } catch (error) {\n",
              "        console.error('Error during call to suggestCharts:', error);\n",
              "      }\n",
              "      quickchartButtonEl.classList.remove('colab-df-spinner');\n",
              "      quickchartButtonEl.classList.add('colab-df-quickchart-complete');\n",
              "    }\n",
              "    (() => {\n",
              "      let quickchartButtonEl =\n",
              "        document.querySelector('#df-da58221d-c4c0-4a72-a3b4-e0bc810330e1 button');\n",
              "      quickchartButtonEl.style.display =\n",
              "        google.colab.kernel.accessAllowed ? 'block' : 'none';\n",
              "    })();\n",
              "  </script>\n",
              "</div>\n",
              "\n",
              "    </div>\n",
              "  </div>\n"
            ],
            "application/vnd.google.colaboratory.intrinsic+json": {
              "type": "dataframe",
              "variable_name": "depression"
            }
          },
          "metadata": {},
          "execution_count": 57
        }
      ]
    },
    {
      "cell_type": "code",
      "source": [
        "depression.columns"
      ],
      "metadata": {
        "colab": {
          "base_uri": "https://localhost:8080/"
        },
        "id": "eSqaS1IX8kzV",
        "outputId": "80463e12-98d7-4d30-93be-1fa430b95c7b"
      },
      "execution_count": null,
      "outputs": [
        {
          "output_type": "execute_result",
          "data": {
            "text/plain": [
              "Index(['Name', 'Age', 'Marital Status', 'Education Level',\n",
              "       'Number of Children', 'Smoking Status', 'Physical Activity Level',\n",
              "       'Employment Status', 'Income', 'Alcohol Consumption', 'Dietary Habits',\n",
              "       'Sleep Patterns', 'History of Mental Illness',\n",
              "       'History of Substance Abuse', 'Family History of Depression',\n",
              "       'Chronic Medical Conditions'],\n",
              "      dtype='object')"
            ]
          },
          "metadata": {},
          "execution_count": 58
        }
      ]
    },
    {
      "cell_type": "markdown",
      "source": [
        "* 'Name': 이름\n",
        "* 'Age': 나이\n",
        "* 'Marital Status': 결혼 상태\n",
        "* 'Education Level': 학력 수준\n",
        "* 'Number of Children': 자녀 수\n",
        "* 'Smoking Status': 흡연 여부\n",
        "* 'Physical Activity Level': 신체 활동 수준\n",
        "* 'Employment Status': 고용 상태\n",
        "* 'Income': 소득\n",
        "* 'Alcohol Consumption': 알콜 소비량\n",
        "* 'Dietary Habits': 식습관\n",
        "* 'Sleep Patterns': 수면 패턴\n",
        "* 'History of Mental Illness': 정신 질환 병력\n",
        "* 'History of Substance Abuse': 약물 남용 병력\n",
        "* 'Family History of Depression': 우울증 가족력\n",
        "* 'Chronic Medical Conditions': 만성 질환"
      ],
      "metadata": {
        "id": "22aS5c8V86cr"
      }
    },
    {
      "cell_type": "markdown",
      "source": [
        "## **프로젝트 목적**"
      ],
      "metadata": {
        "id": "ipIad0pA9X0U"
      }
    },
    {
      "cell_type": "markdown",
      "source": [
        "```\n",
        "이 프로젝트의 목표는 각 특성들이 우울증을 유발하는 데 끼치는 영향을 분석하고,\n",
        "이를 통해 우울증에 취약한 사람을 조기에 식별할 수 있는 모델을 만드는 것입니다.\n",
        "```"
      ],
      "metadata": {
        "id": "VDLIVh08-Oo-"
      }
    },
    {
      "cell_type": "markdown",
      "source": [
        "## **간단한 모델**"
      ],
      "metadata": {
        "id": "uE7NTyfa-6GI"
      }
    },
    {
      "cell_type": "code",
      "source": [
        "depression.info()"
      ],
      "metadata": {
        "colab": {
          "base_uri": "https://localhost:8080/"
        },
        "id": "VnuJvhJ1_c41",
        "outputId": "93ca882d-1cdc-4521-e0a6-743bcd71b3d4"
      },
      "execution_count": null,
      "outputs": [
        {
          "output_type": "stream",
          "name": "stdout",
          "text": [
            "<class 'pandas.core.frame.DataFrame'>\n",
            "RangeIndex: 413768 entries, 0 to 413767\n",
            "Data columns (total 16 columns):\n",
            " #   Column                        Non-Null Count   Dtype  \n",
            "---  ------                        --------------   -----  \n",
            " 0   Name                          413768 non-null  object \n",
            " 1   Age                           413768 non-null  int64  \n",
            " 2   Marital Status                413768 non-null  object \n",
            " 3   Education Level               413768 non-null  object \n",
            " 4   Number of Children            413768 non-null  int64  \n",
            " 5   Smoking Status                413768 non-null  object \n",
            " 6   Physical Activity Level       413768 non-null  object \n",
            " 7   Employment Status             413768 non-null  object \n",
            " 8   Income                        413768 non-null  float64\n",
            " 9   Alcohol Consumption           413768 non-null  object \n",
            " 10  Dietary Habits                413768 non-null  object \n",
            " 11  Sleep Patterns                413768 non-null  object \n",
            " 12  History of Mental Illness     413768 non-null  object \n",
            " 13  History of Substance Abuse    413768 non-null  object \n",
            " 14  Family History of Depression  413768 non-null  object \n",
            " 15  Chronic Medical Conditions    413768 non-null  object \n",
            "dtypes: float64(1), int64(2), object(13)\n",
            "memory usage: 50.5+ MB\n"
          ]
        }
      ]
    },
    {
      "cell_type": "code",
      "source": [
        "from sklearn.model_selection import train_test_split\n",
        "from sklearn.ensemble import RandomForestClassifier\n",
        "\n",
        "depression = pd.get_dummies(depression, columns=['Marital Status', 'Education Level', 'Smoking Status', 'Physical Activity Level',\n",
        "                                   'Employment Status', 'Alcohol Consumption', 'Dietary Habits', 'Sleep Patterns',\n",
        "                                   'History of Mental Illness', 'History of Substance Abuse',\n",
        "                                   'Family History of Depression'],\n",
        "                      prefix=['Marital Status', 'Education Level', 'Smoking Status', 'Physical Activity Level',\n",
        "                              'Employment Status', 'Alcohol Consumption', 'Dietary Habits', 'Sleep Patterns',\n",
        "                              'History of Mental Illness', 'History of Substance Abuse',\n",
        "                              'Family History of Depression'])\n",
        "X = depression.drop(['Name', 'Chronic Medical Conditions'], axis=1)\n",
        "y = depression['Chronic Medical Conditions']\n",
        "X_train, X_test, y_train, y_test = train_test_split(X, y, test_size=0.2, random_state=42)\n",
        "\n",
        "rf = RandomForestClassifier(random_state=42).fit(X_train, y_train)\n",
        "\n",
        "feature_importances = pd.Series(rf.feature_importances_, index=X.columns)\n",
        "print('특성 중요도')\n",
        "print(feature_importances)"
      ],
      "metadata": {
        "colab": {
          "base_uri": "https://localhost:8080/"
        },
        "id": "vzYKnkmW_VGY",
        "outputId": "d00eb477-b2f2-4ea9-a0f8-d9da845a2beb"
      },
      "execution_count": null,
      "outputs": [
        {
          "output_type": "stream",
          "name": "stdout",
          "text": [
            "특성 중요도\n",
            "Age                                  0.283612\n",
            "Number of Children                   0.068137\n",
            "Income                               0.384143\n",
            "Marital Status_Divorced              0.006094\n",
            "Marital Status_Married               0.009556\n",
            "Marital Status_Single                0.003692\n",
            "Marital Status_Widowed               0.006379\n",
            "Education Level_Associate Degree     0.009364\n",
            "Education Level_Bachelor's Degree    0.010722\n",
            "Education Level_High School          0.009304\n",
            "Education Level_Master's Degree      0.009414\n",
            "Education Level_PhD                  0.004751\n",
            "Smoking Status_Current               0.003577\n",
            "Smoking Status_Former                0.007349\n",
            "Smoking Status_Non-smoker            0.007391\n",
            "Physical Activity Level_Active       0.006116\n",
            "Physical Activity Level_Moderate     0.007637\n",
            "Physical Activity Level_Sedentary    0.006242\n",
            "Employment Status_Employed           0.002261\n",
            "Employment Status_Unemployed         0.002224\n",
            "Alcohol Consumption_High             0.009651\n",
            "Alcohol Consumption_Low              0.010934\n",
            "Alcohol Consumption_Moderate         0.011902\n",
            "Dietary Habits_Healthy               0.005287\n",
            "Dietary Habits_Moderate              0.010609\n",
            "Dietary Habits_Unhealthy             0.008951\n",
            "Sleep Patterns_Fair                  0.012055\n",
            "Sleep Patterns_Good                  0.007601\n",
            "Sleep Patterns_Poor                  0.008869\n",
            "History of Mental Illness_No         0.010965\n",
            "History of Mental Illness_Yes        0.010981\n",
            "History of Substance Abuse_No        0.011280\n",
            "History of Substance Abuse_Yes       0.011175\n",
            "Family History of Depression_No      0.010957\n",
            "Family History of Depression_Yes     0.010818\n",
            "dtype: float64\n"
          ]
        }
      ]
    },
    {
      "cell_type": "code",
      "source": [
        "rf.score(X_test, y_test)"
      ],
      "metadata": {
        "colab": {
          "base_uri": "https://localhost:8080/"
        },
        "id": "_SRrNy9j_mdO",
        "outputId": "8cd77fca-40c4-4ec5-9eb6-909c6f78347c"
      },
      "execution_count": null,
      "outputs": [
        {
          "output_type": "execute_result",
          "data": {
            "text/plain": [
              "0.6153660246030404"
            ]
          },
          "metadata": {},
          "execution_count": 61
        }
      ]
    },
    {
      "cell_type": "markdown",
      "source": [
        "# **3. 프리미어리그 우승팀**"
      ],
      "metadata": {
        "id": "TD0kyk2ZJvOI"
      }
    },
    {
      "cell_type": "markdown",
      "source": [
        "https://www.kaggle.com/datasets/panaaaaa/english-premier-league-and-championship-full-dataset?select=England+CSV.csv"
      ],
      "metadata": {
        "id": "bSfGcVxxJyK8"
      }
    },
    {
      "cell_type": "code",
      "source": [],
      "metadata": {
        "id": "9WT5rtdDJ3Sp"
      },
      "execution_count": null,
      "outputs": []
    }
  ]
}