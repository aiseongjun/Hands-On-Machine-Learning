{
  "nbformat": 4,
  "nbformat_minor": 0,
  "metadata": {
    "colab": {
      "provenance": [],
      "collapsed_sections": [
        "T3_iYF29l4zB",
        "YHd6zELDWH2q",
        "e-__2fJhmZAz",
        "vNnOAuleuiwc",
        "rAPILBCz2FyX"
      ],
      "authorship_tag": "ABX9TyM4l1PkVHpzHm05kOj8tEXZ",
      "include_colab_link": true
    },
    "kernelspec": {
      "name": "python3",
      "display_name": "Python 3"
    },
    "language_info": {
      "name": "python"
    }
  },
  "cells": [
    {
      "cell_type": "markdown",
      "metadata": {
        "id": "view-in-github",
        "colab_type": "text"
      },
      "source": [
        "<a href=\"https://colab.research.google.com/github/aiseongjun/Hands-On-Machine-Learning/blob/main/4_%EB%AA%A8%EB%8D%B8_%ED%9B%88%EB%A0%A8.ipynb\" target=\"_parent\"><img src=\"https://colab.research.google.com/assets/colab-badge.svg\" alt=\"Open In Colab\"/></a>"
      ]
    },
    {
      "cell_type": "markdown",
      "source": [
        "# **4. 모델 훈련**"
      ],
      "metadata": {
        "id": "ZTPlq0HXlfRx"
      }
    },
    {
      "cell_type": "markdown",
      "source": [
        "# **4.1 선형 회귀**"
      ],
      "metadata": {
        "id": "T3_iYF29l4zB"
      }
    },
    {
      "cell_type": "markdown",
      "source": [
        "**선형 모델**\n",
        "```\n",
        "일반적으로 선형 모델은 입력 특성의 가중치 합과 편향(또는 절편)이라는 상수를 더해 예측을 만듭니다.\n",
        "이 식은 벡터 형태로 더 간단하게 쓸 수 있습니다.\n",
        "```\n",
        "$$\\hat{y} = \\theta_0 + \\theta_1x_1 + \\theta_2x_2 + \\cdot\\cdot\\cdot + \\theta_nx_n$$\n",
        "* $\\hat{y}$은 예측값입니다.\n",
        "* $n$은 특성입니다.\n",
        "* $x_i$는 $i$번째 특성값입니다.\n",
        "* $\\theta_j$는 $j$번째 모델 파라미터입니다.\n",
        "$$\\hat{y} = h_\\theta(x) = \\theta\\cdot x$$\n",
        "* $h_\\theta$는 모델 파라미터 $\\theta$를 사용한 가설 함수입니다.\n",
        "* $\\theta$는 편향과 $\\theta_0$과 $\\theta_1$에서 $\\theta_n$까지의 특성 가중치를 담은 모델의 파라미터 벡터입니다.\n",
        "* $x$는 $x_0$에서 $x_n$까지 담은 샘플의 **특성 벡터**입니다. $x_0$은 항상 1입니다.\n",
        "* $\\theta\\cdot x$는 벡터 $\\theta$와 $x$의 점곱입니다.\n",
        "\n",
        "**평균 제곱 오차(MSE)**\n",
        "```\n",
        "평균 제곱 오차는 주로 회귀 분석에서 모델의 성능을 평가할 때 사용되는 지표입니다.\n",
        "MSE는 모델이 예측한 값과 실제 값 간의 차이를 제곱하여 평균을 낸 값으로, 모델의 예측 오류를 나타냅니다.\n",
        "\n",
        "+ 좋은 성능 지표\n",
        "학습 알고리즘은 종종 최종 모델을 평가하는 데 사용되는 성능 지표와 다른 손실 함수를 훈련 중에 최적화합니다.\n",
        "이는 일반적으로 해당 함수가 최적화하기 더 쉽거나 훈련 중에만 필요한 추가 항이 있기 때문입니다.\n",
        "좋은 성능 지표는 최종 비즈니스 목표에 가장 근접한 것입니다.\n",
        "좋은 훈련 손실은 최적화하기 쉽고 지표와 밀접한 상관관계가 있습니다.\n",
        "```\n",
        "$$MSE(X, h_0) = \\frac{1}{m}\\sum^{m}_{i=1}(\\theta^{T}x^{(i)}-y^{(i)})^2$$"
      ],
      "metadata": {
        "id": "8lM3Diitmvaf"
      }
    },
    {
      "cell_type": "markdown",
      "source": [
        "## **4.1.1 정규 방정식**"
      ],
      "metadata": {
        "id": "fer0jo4Gn93k"
      }
    },
    {
      "cell_type": "markdown",
      "source": [
        "**정규 방정식**\n",
        "```\n",
        "정규방정식은 선형 회귀에서 비용 함수를 최소화하는 회귀 계수를 구하기 위한 방법입니다.\n",
        "특히, 선형 회귀 모델에서 최소 제곱법을 사용하여 모델의 파라미터를 계산할 때 사용됩니다.\n",
        "\n",
        "+ 유사 역행렬\n",
        "유사역행렬은 역행렬이 존재하지 않는 경우에도 행렬의 역행렬과 유사한 역할을 할 수 있는 개념입니다.\n",
        "직선 회귀에서 유용하게 사용되며, 주로 최소제곱법을 해결할 때 쓰입니다.\n",
        "```\n",
        "$$\\hat{\\theta} = (X^{T}X)^{-1}X^{T}y$$\n",
        "* $\\hat{\\theta}$은 비용 함수를 최소화하는 $\\theta$ 값입니다.\n",
        "* $y$는 $y^{(1)}$부터 $y^{(m)}$까지 포함하는 타깃 벡터입니다.\n",
        "\n",
        "$$\\hat{\\theta} = X^{+}y$$\n",
        "* $X^{+}$는 $X$의 유사 역행렬입니다."
      ],
      "metadata": {
        "id": "2PuaK9HOJFFw"
      }
    },
    {
      "cell_type": "code",
      "source": [
        "import numpy as np\n",
        "from sklearn.preprocessing import add_dummy_feature\n",
        "\n",
        "np.random.seed(42)                    # 동일하게 재현되도록 하기 위해 지정합니다.\n",
        "m = 100                               # 샘플 개수\n",
        "X = 2 * np.random.rand(m, 1)          # 열 벡터\n",
        "y = 4 + 3 * X + np.random.randn(m, 1) # 타깃 값\n",
        "\n",
        "X_b = add_dummy_feature(X)\n",
        "theta_best = np.linalg.inv(X_b.T @ X_b) @ X_b.T @ y\n",
        "theta_best\n",
        "\n"
      ],
      "metadata": {
        "colab": {
          "base_uri": "https://localhost:8080/"
        },
        "id": "7sAZPtUsJ7t-",
        "outputId": "9a18d85f-0611-4141-cf46-2a89b6efbabb"
      },
      "execution_count": 1,
      "outputs": [
        {
          "output_type": "execute_result",
          "data": {
            "text/plain": [
              "array([[4.21509616],\n",
              "       [2.77011339]])"
            ]
          },
          "metadata": {},
          "execution_count": 1
        }
      ]
    },
    {
      "cell_type": "markdown",
      "source": [
        "**정규 방정식 결과**\n",
        "```\n",
        "기대한 4와 3에 매우 비슷하지만 잡음 때문에 원래 함수의 파라미터를 정확하게 재현하지 못했습니다.\n",
        "데이터셋이 작고 잡음이 많을수록 정확한 값을 얻기 힘듭니다.\n",
        "```"
      ],
      "metadata": {
        "id": "-UzBGCxmLmKo"
      }
    },
    {
      "cell_type": "code",
      "source": [
        "X_new = np.array([[0], [2]])\n",
        "X_new_b = add_dummy_feature(X_new) # 각 샘플에 x0 = 1을 추가합니다.\n",
        "y_predict = X_new_b @ theta_best\n",
        "y_predict"
      ],
      "metadata": {
        "colab": {
          "base_uri": "https://localhost:8080/"
        },
        "id": "Qge9e5OvKlLO",
        "outputId": "489c74d5-08e4-4a7c-ec23-aa580c6fc973"
      },
      "execution_count": 2,
      "outputs": [
        {
          "output_type": "execute_result",
          "data": {
            "text/plain": [
              "array([[4.21509616],\n",
              "       [9.75532293]])"
            ]
          },
          "metadata": {},
          "execution_count": 2
        }
      ]
    },
    {
      "cell_type": "code",
      "source": [
        "import matplotlib.pyplot as plt\n",
        "\n",
        "plt.plot(X_new, y_predict, 'r-', label='Predict')\n",
        "plt.plot(X, y, 'b.')\n",
        "plt.ylabel('y')\n",
        "plt.xlabel('X')\n",
        "plt.legend(loc='best')"
      ],
      "metadata": {
        "colab": {
          "base_uri": "https://localhost:8080/",
          "height": 466
        },
        "id": "dqUrjPH9Mbpb",
        "outputId": "09274a1c-757c-4b28-ab0d-edc75a615c38"
      },
      "execution_count": 3,
      "outputs": [
        {
          "output_type": "execute_result",
          "data": {
            "text/plain": [
              "<matplotlib.legend.Legend at 0x7e196da3e8d0>"
            ]
          },
          "metadata": {},
          "execution_count": 3
        },
        {
          "output_type": "display_data",
          "data": {
            "text/plain": [
              "<Figure size 640x480 with 1 Axes>"
            ],
            "image/png": "[encoded data removed]"
          },
          "metadata": {}
        }
      ]
    },
    {
      "cell_type": "code",
      "source": [
        "from sklearn.linear_model import LinearRegression\n",
        "\n",
        "lin_reg = LinearRegression().fit(X, y)\n",
        "print('Intercept_: \\t{}'.format(lin_reg.intercept_))\n",
        "print('Coef_: \\t\\t{}'.format(lin_reg.coef_))\n",
        "print('Predict: \\n{}'.format(lin_reg.predict(X_new)))"
      ],
      "metadata": {
        "colab": {
          "base_uri": "https://localhost:8080/"
        },
        "id": "Wy6wxlfmMvhB",
        "outputId": "51285663-da1d-4350-a35b-5687c0ec0eb6"
      },
      "execution_count": 4,
      "outputs": [
        {
          "output_type": "stream",
          "name": "stdout",
          "text": [
            "Intercept_: \t[4.21509616]\n",
            "Coef_: \t\t[[2.77011339]]\n",
            "Predict: \n",
            "[[4.21509616]\n",
            " [9.75532293]]\n"
          ]
        }
      ]
    },
    {
      "cell_type": "code",
      "source": [
        "theta_best_svd, residuals, rank, s = np.linalg.lstsq(X_b, y, rcond=1e-6)\n",
        "theta_best_svd"
      ],
      "metadata": {
        "colab": {
          "base_uri": "https://localhost:8080/"
        },
        "id": "wSyHepa0NcNe",
        "outputId": "588ca13c-dda1-42ba-bd6c-9430b47fdc1a"
      },
      "execution_count": 5,
      "outputs": [
        {
          "output_type": "execute_result",
          "data": {
            "text/plain": [
              "array([[4.21509616],\n",
              "       [2.77011339]])"
            ]
          },
          "metadata": {},
          "execution_count": 5
        }
      ]
    },
    {
      "cell_type": "code",
      "source": [
        "np.linalg.pinv(X_b) @ y"
      ],
      "metadata": {
        "colab": {
          "base_uri": "https://localhost:8080/"
        },
        "id": "zO2mFH1kOdLS",
        "outputId": "5b26a93c-54a0-4493-87e7-70a3293e3326"
      },
      "execution_count": 6,
      "outputs": [
        {
          "output_type": "execute_result",
          "data": {
            "text/plain": [
              "array([[4.21509616],\n",
              "       [2.77011339]])"
            ]
          },
          "metadata": {},
          "execution_count": 6
        }
      ]
    },
    {
      "cell_type": "markdown",
      "source": [
        "## **4.1.2 계산 복잡도**"
      ],
      "metadata": {
        "id": "u3vMdHAfQ43X"
      }
    },
    {
      "cell_type": "markdown",
      "source": [
        "**계산 복잡도**\n",
        "```\n",
        "정규 방정식은 (n+1) x (n+1) 크기의 역행렬을 계산합니다.\n",
        "역행렬을 계산하는 계산 복잡도는 일반적으로 n^2.4에서 n^3 사이입니다.\n",
        "사이킷런의 LinearRegression 클래스가 사용하는 SVD 방법은 약 n^2입니다.\n",
        "특성의 개수가 두 배로 늘어나면 계산 시간은 대략 4배가 됩니다.\n",
        "```"
      ],
      "metadata": {
        "id": "SS_4HjvpQ912"
      }
    },
    {
      "cell_type": "markdown",
      "source": [
        "# **4.2 경사 하강법**"
      ],
      "metadata": {
        "id": "YHd6zELDWH2q"
      }
    },
    {
      "cell_type": "markdown",
      "source": [
        "**경사 하강법**\n",
        "```\n",
        "경사하강법은 함수의 기울기를 계산하여, 그 기울기를 반영해 함수의 값을 최소화하는 방향으로 파라미터를 조정하는 방식입니다.\n",
        "예를 들어, 비용 함수 또는 손실 함수를 최소화하는 것이 목표일 때, 이 함수를 따라 내려가면서 최적의 파라미터를 찾습니다.\n",
        "\n",
        "+ 학습률\n",
        "학습률은 경사하강법과 같은 최적화 알고리즘에서 사용되는 하이퍼파라미터로, 모델 파라미터를 얼마나 크게 업데이트할지를 결정하는 값입니다.\n",
        "\n",
        "+ 스케일\n",
        "경사 하강법을 사용할 때는 반드시 모든 특성의 스케일을 같게 만들어야 합니다(예: 사이킷런 StandardScaler를 사용합니다).\n",
        "그렇지 않으면 수렴하는 데 훨씬 오랜 시간이 걸립니다.\n",
        "```"
      ],
      "metadata": {
        "id": "emnZiMifWKg7"
      }
    },
    {
      "cell_type": "markdown",
      "source": [
        "## **4.2.1 배치 경사 하강법**"
      ],
      "metadata": {
        "id": "8ragHFQsYW95"
      }
    },
    {
      "cell_type": "markdown",
      "source": [
        "**배치 경사 하강법**\n",
        "```\n",
        "배치 경사 하강법은 경사 하강법 알고리즘의 한 종류로, 전체 훈련 데이터를 사용하여 기울기를 계산하고,\n",
        "그 기울기에 따라 모델의 파라미터를 한 번에 업데이트하는 방식입니다.\n",
        "\n",
        "+ 편도함수\n",
        "편도함수는 다변수 함수에서, 한 변수에 대해 나머지 변수들은 고정시킨 채로 해당 변수에 대한 미분을 구한 것입니다.\n",
        "즉, 여러 개의 독립적인 변수를 가진 함수에서 하나의 변수에 대해서만 미분을 취하는 것입니다.\n",
        "```\n",
        "$$\\frac{\\delta}{\\delta\\theta_{j}}MSE(\\theta) = \\frac{2}{m}\\sum^{m}_{i=1}(\\theta^{T}x^{(i)}-y^{(i)})x^{(i)}_j$$\n",
        "$$\\Delta_{\\theta} MSE(\\theta) = \\frac{2}{m}X^{T}(X\\theta-y)$$\n",
        "$$\\theta^{nextstep} = \\theta-\\eta\\Delta_{\\theta}MSE(\\theta)$$"
      ],
      "metadata": {
        "id": "jmuN-9Q5ZXjv"
      }
    },
    {
      "cell_type": "code",
      "source": [
        "eta = 0.1    # 학습률\n",
        "n_epochs = 1000\n",
        "m = len(X_b) # 샘플 개수\n",
        "\n",
        "np.random.seed(42)\n",
        "theta = np.random.randn(2, 1) # 모델 파라미터를 랜덤하게 초기화합니다.\n",
        "\n",
        "for epoch in range(n_epochs):\n",
        "  gradients = 2 / m * X_b.T @ (X_b @ theta - y)\n",
        "  theta = theta - eta * gradients\n",
        "\n",
        "theta"
      ],
      "metadata": {
        "colab": {
          "base_uri": "https://localhost:8080/"
        },
        "id": "XIuNuVVUZ8e9",
        "outputId": "8bb8f468-0d35-4e18-dd78-c850e02e0ee1"
      },
      "execution_count": 7,
      "outputs": [
        {
          "output_type": "execute_result",
          "data": {
            "text/plain": [
              "array([[4.21509616],\n",
              "       [2.77011339]])"
            ]
          },
          "metadata": {},
          "execution_count": 7
        }
      ]
    },
    {
      "cell_type": "markdown",
      "source": [
        "## **4.2.2 확률적 경사 하강법**"
      ],
      "metadata": {
        "id": "lk3l3khgcyjx"
      }
    },
    {
      "cell_type": "markdown",
      "source": [
        "**확률적 경사 하강법**\n",
        "```\n",
        "확률적 경사 하강법은 경사 하강법의 한 변형으로, 전체 데이터셋 대신 하나의 샘플만을 사용하여 모델의 파라미터를 업데이트하는 방법입니다.\n",
        "즉, 매번 하나의 데이터 포인트만을 사용해 기울기를 계산하고 파라미터를 업데이트하는 방식입니다.\n",
        "```"
      ],
      "metadata": {
        "id": "Rzy0DQPydmvj"
      }
    },
    {
      "cell_type": "code",
      "source": [
        "n_epochs = 50\n",
        "t0, t1 = 5, 50 # 학습 스케줄 하이퍼파라미터\n",
        "\n",
        "def learning_schedule(t):\n",
        "  return t0 / (t + t1)\n",
        "\n",
        "np.random.seed(42)\n",
        "theta = np.random.randn(2, 1) # 랜덤 초기화\n",
        "\n",
        "for epoch in range(n_epochs):\n",
        "  for iteration in range(m):\n",
        "    random_index = np.random.randint(m)\n",
        "    xi = X_b[random_index:random_index+1]\n",
        "    yi = y[random_index:random_index+1]\n",
        "    gradients = 2 * xi.T @ (xi @ theta - yi) # SGD의 경우 m으로 나누지 않습니다.\n",
        "    eta = learning_schedule(epoch * m + iteration)\n",
        "    theta = theta - eta * gradients\n",
        "\n",
        "theta"
      ],
      "metadata": {
        "colab": {
          "base_uri": "https://localhost:8080/"
        },
        "id": "C_97MaXSes-t",
        "outputId": "fe90b539-90aa-4bf2-b2dd-49b3fa4144e1"
      },
      "execution_count": 8,
      "outputs": [
        {
          "output_type": "execute_result",
          "data": {
            "text/plain": [
              "array([[4.21076011],\n",
              "       [2.74856079]])"
            ]
          },
          "metadata": {},
          "execution_count": 8
        }
      ]
    },
    {
      "cell_type": "code",
      "source": [
        "from sklearn.linear_model import SGDRegressor\n",
        "\n",
        "sgd_reg = SGDRegressor(max_iter=1000, tol=1e-5, penalty=None, eta0=0.01,\n",
        "                       n_iter_no_change=100, random_state=42).fit(X, y.ravel())\n",
        "print('sgd_reg.intercept_: \\t{}'.format(sgd_reg.intercept_))\n",
        "print('sgd_reg.coef_: \\t\\t{}'.format(sgd_reg.coef_))"
      ],
      "metadata": {
        "colab": {
          "base_uri": "https://localhost:8080/"
        },
        "id": "fAJdfz2sgOlP",
        "outputId": "2713dc5a-6f6d-4b66-d75b-857471854f1a"
      },
      "execution_count": 9,
      "outputs": [
        {
          "output_type": "stream",
          "name": "stdout",
          "text": [
            "sgd_reg.intercept_: \t[4.21278812]\n",
            "sgd_reg.coef_: \t\t[2.77270267]\n"
          ]
        }
      ]
    },
    {
      "cell_type": "markdown",
      "source": [
        "## **4.2.3 미니배치 경사 하강법**"
      ],
      "metadata": {
        "id": "45vy3szkhfMP"
      }
    },
    {
      "cell_type": "markdown",
      "source": [
        "**미니배치 경사 하강법**\n",
        "```\n",
        "미니배치 경사 하강법은 배치 경사 하강법과 확률적 경사 하강법의 중간 형태로,\n",
        "훈련 데이터셋을 작은 배치로 나누어 각각에 대해 경사 하강법을 적용하는 방법입니다.\n",
        "즉, 전체 데이터셋을 사용하지 않고 작은 데이터 조각(미니배치)을 사용하여 기울기를 계산하고 파라미터 업데이트를 진행하는 방식입니다.\n",
        "```"
      ],
      "metadata": {
        "id": "fJltodDgibFk"
      }
    },
    {
      "cell_type": "markdown",
      "source": [
        "| 알고리즘 | m이 클 때 | 외부 메모리 학습 지원 | n이 클 때 | 하이퍼 파라미터 수 | 스케일 조정 필요 | 사이킷런 |\n",
        "|--------|--------|--------|--------|--------|--------|--------|\n",
        "| 정규 방정식 | 빠름 | No | 느림 | 0 | No | N/A |\n",
        "| SVD | 빠름 | No | 느림 | 0 | No | LinearRegression |\n",
        "| 배치 경사 하강법 | 느림 | No | 빠름 | 2 | Yes | N/A |\n",
        "| 확률적 경사 하강법 | 빠름 | Yes | 빠름 | >= 2 | Yes | SGDRegressor |\n",
        "| 미니배치 경사 하강법 | 빠름 | Yes | 빠름 | >= 2 | Yes | N/A |"
      ],
      "metadata": {
        "id": "Wgh9YH87jGE3"
      }
    },
    {
      "cell_type": "markdown",
      "source": [
        "# **4.3 다항 회귀**"
      ],
      "metadata": {
        "id": "e-__2fJhmZAz"
      }
    },
    {
      "cell_type": "markdown",
      "source": [
        "**다항 회귀**\n",
        "```\n",
        "다항 회귀는 회귀 분석의 한 종류로, 입력 변수와 출력 변수 간의 관계가 선형이 아닌 비선형으로 모델링되는 경우에 사용됩니다.\n",
        "다항 회귀는 데이터를 비선형 관계로 모델링하여 더 복잡한 형태의 곡선에 맞추어 예측을 할 수 있게 합니다.\n",
        "```"
      ],
      "metadata": {
        "id": "9_528iWwmfH2"
      }
    },
    {
      "cell_type": "code",
      "source": [
        "from sklearn.preprocessing import PolynomialFeatures\n",
        "\n",
        "np.random.seed(42)\n",
        "m = 100\n",
        "X = 6 * np.random.rand(m, 1) - 3\n",
        "y = 0.5 * X ** 2 + X + 2 + np.random.randn(m, 1)\n",
        "\n",
        "X_poly = PolynomialFeatures(degree=2, include_bias=False).fit_transform(X)\n",
        "print('X[0]: \\t\\t{}'.format(X[0]))\n",
        "print('X_poly[0]: \\t{}'.format(X_poly[0]))"
      ],
      "metadata": {
        "colab": {
          "base_uri": "https://localhost:8080/"
        },
        "id": "QncJXIoxrDYL",
        "outputId": "f1c16568-196e-4bee-9c71-ba028192e18b"
      },
      "execution_count": 10,
      "outputs": [
        {
          "output_type": "stream",
          "name": "stdout",
          "text": [
            "X[0]: \t\t[-0.75275929]\n",
            "X_poly[0]: \t[-0.75275929  0.56664654]\n"
          ]
        }
      ]
    },
    {
      "cell_type": "code",
      "source": [
        "lin_reg = LinearRegression().fit(X_poly, y)\n",
        "print('Intercept_: \\t{}'.format(lin_reg.intercept_))\n",
        "print('Coef_: \\t\\t{}'.format(lin_reg.coef_))"
      ],
      "metadata": {
        "colab": {
          "base_uri": "https://localhost:8080/"
        },
        "id": "ESNdT1nlrUJI",
        "outputId": "46fe80d1-dce5-4de0-8651-6a696d385af7"
      },
      "execution_count": 11,
      "outputs": [
        {
          "output_type": "stream",
          "name": "stdout",
          "text": [
            "Intercept_: \t[1.78134581]\n",
            "Coef_: \t\t[[0.93366893 0.56456263]]\n"
          ]
        }
      ]
    },
    {
      "cell_type": "markdown",
      "source": [
        "# **4.4 학습 곡선**"
      ],
      "metadata": {
        "id": "vNnOAuleuiwc"
      }
    },
    {
      "cell_type": "markdown",
      "source": [
        "**학습 곡선**\n",
        "```\n",
        "학습곡선은 모델이 학습하면서 성능이 어떻게 변화하는지를 시각적으로 나타낸 그래프입니다.\n",
        "주로 훈련 데이터에 대한 성능과 검증 데이터에 대한 성능을 비교하는 방식으로 그려집니다.\n",
        "학습곡선은 모델이 얼마나 잘 학습하고 있는지, 과적합 또는 과소적합 상태인지 등을 파악하는 데 유용합니다.\n",
        "```\n",
        "\n",
        "**편향/분산 트레이드 오프**\n",
        "```\n",
        "모델의 복잡도가 커지면 통상적으로 분산이 늘어나고 편향은 줄어듭니다.\n",
        "반대로 모델의 복잡도가 줄어들면 평향이 커지고 분산이 작아집니다.\n",
        "그래서 트레이드오프라고 부릅니다.\n",
        "```"
      ],
      "metadata": {
        "id": "tVnnMpnUukl3"
      }
    },
    {
      "cell_type": "code",
      "source": [
        "from sklearn.model_selection import learning_curve\n",
        "\n",
        "train_sizes, train_scores, valid_scores = learning_curve(\n",
        "    LinearRegression(), X, y, train_sizes=np.linspace(0.01, 1.0, 40), cv=5,\n",
        "    scoring='neg_root_mean_squared_error')\n",
        "train_errors = -train_scores.mean(axis=1)\n",
        "valid_errors = -valid_scores.mean(axis=1)\n",
        "\n",
        "plt.plot(train_sizes, train_errors, 'r-+', linewidth=2, label='train set')\n",
        "plt.plot(train_sizes, valid_errors, 'b-', linewidth=3, label='valid set')\n",
        "plt.ylim(0, 2.5)\n",
        "plt.ylabel('RMSE')\n",
        "plt.xlabel('Train Set Size')\n",
        "plt.legend('best')"
      ],
      "metadata": {
        "colab": {
          "base_uri": "https://localhost:8080/",
          "height": 472
        },
        "id": "63PQ_6vfvuqf",
        "outputId": "7ca1e320-a74d-4268-8733-d8c9b41455be"
      },
      "execution_count": 12,
      "outputs": [
        {
          "output_type": "execute_result",
          "data": {
            "text/plain": [
              "<matplotlib.legend.Legend at 0x7e196d5a7750>"
            ]
          },
          "metadata": {},
          "execution_count": 12
        },
        {
          "output_type": "display_data",
          "data": {
            "text/plain": [
              "<Figure size 640x480 with 1 Axes>"
            ],
            "image/png": "[encoded data removed]"
          },
          "metadata": {}
        }
      ]
    },
    {
      "cell_type": "code",
      "source": [
        "from sklearn.pipeline import make_pipeline\n",
        "\n",
        "polynomial_regression = make_pipeline(\n",
        "    PolynomialFeatures(degree=10, include_bias=False),\n",
        "    LinearRegression())\n",
        "\n",
        "train_sizes, train_scores, valid_scores = learning_curve(\n",
        "    polynomial_regression, X, y, train_sizes=np.linspace(0.01, 1.0, 40), cv=5,\n",
        "    scoring='neg_root_mean_squared_error')\n",
        "train_errors = -train_scores.mean(axis=1)\n",
        "valid_errors = -valid_scores.mean(axis=1)\n",
        "\n",
        "plt.plot(train_sizes, train_errors, 'r-+', linewidth=2, label='train set')\n",
        "plt.plot(train_sizes, valid_errors, 'b-', linewidth=3, label='valid set')\n",
        "plt.ylim(0, 2.5)\n",
        "plt.ylabel('RMSE')\n",
        "plt.xlabel('Train Set Size')\n",
        "plt.legend('best')"
      ],
      "metadata": {
        "colab": {
          "base_uri": "https://localhost:8080/",
          "height": 472
        },
        "id": "yvvn19iuzrLH",
        "outputId": "8b2144aa-ef8a-4553-bcac-83a0d5eea44c"
      },
      "execution_count": 13,
      "outputs": [
        {
          "output_type": "execute_result",
          "data": {
            "text/plain": [
              "<matplotlib.legend.Legend at 0x7e196a3a4dd0>"
            ]
          },
          "metadata": {},
          "execution_count": 13
        },
        {
          "output_type": "display_data",
          "data": {
            "text/plain": [
              "<Figure size 640x480 with 1 Axes>"
            ],
            "image/png": "[encoded data removed]"
          },
          "metadata": {}
        }
      ]
    },
    {
      "cell_type": "markdown",
      "source": [
        "**학습 곡선 비교 결과**\n",
        "* 훈련 데이터의 오차가 이전보다 훨씬 낮습니다.\n",
        "* 두 곡선 사이에 공간이 있습니다. 이 말은 검증 데이터에서보다 훈련 데이터에서 모델이 훨씬 더 나은 성능을 보인다는 뜻으로, 이는 과대적합 모델의 특징입니다. 그러나 더 큰 훈련 세트를 사용하면 두 곡선이 점점 가까워집니다."
      ],
      "metadata": {
        "id": "kqn9ZCF80Evr"
      }
    },
    {
      "cell_type": "markdown",
      "source": [
        "# **4.5 규제가 있는 선형 모델**"
      ],
      "metadata": {
        "id": "rAPILBCz2FyX"
      }
    },
    {
      "cell_type": "markdown",
      "source": [
        "**과대적합을 줄이는 방법**\n",
        "```\n",
        "과대적합을 줄이는 방법은 모델을 규제하는 것입니다.\n",
        "자유도를 줄이면 데이터에 과대적합되기 더 어려워집니다.\n",
        "다항 회귀 모델을 규제하는 간단한 방법은 다항식의 차수를 줄이는 것입니다.\n",
        "선형 회귀 모델에서는 보통 모델의 가중치를 제한함으로써 규제를 가합니다.\n",
        "```"
      ],
      "metadata": {
        "id": "HKfUM3Ip26Z6"
      }
    },
    {
      "cell_type": "markdown",
      "source": [
        "## **4.5.1 릿지 회귀**"
      ],
      "metadata": {
        "id": "n745qdu13U-E"
      }
    },
    {
      "cell_type": "markdown",
      "source": [
        "**릿지 회귀**\n",
        "```\n",
        "릿지 회귀는 선형 회귀의 일종으로, 과적합을 방지하기 위해 L2 정규화를 적용한 모델입니다.\n",
        "훈련 데이터가 많고 복잡한 경우, 모델이 학습 데이터에 너무 과하게 맞추는 과적합이 발생할 수 있습니다.\n",
        "이를 방지하려면 모델의 복잡도를 제어해야 하는데, 릿지 회귀는 이를 해결하기 위해 가중치 파라미터에 패널티를 추가하여 모델의 복잡도를 제어합니다.\n",
        "```\n",
        "$$J(\\theta) = MSE(\\theta) + \\frac{\\alpha}{m}\\sum^{n}_{i=1}\\theta^{2}_{i}$$"
      ],
      "metadata": {
        "id": "OpGLAWyh6wEW"
      }
    },
    {
      "cell_type": "code",
      "source": [
        "from sklearn.linear_model import Ridge\n",
        "\n",
        "ridge_reg = Ridge(alpha=0.1, solver='cholesky').fit(X, y)\n",
        "ridge_reg.predict([[1.5]])"
      ],
      "metadata": {
        "colab": {
          "base_uri": "https://localhost:8080/"
        },
        "id": "q-Gh_F4l3Xe6",
        "outputId": "f20de7a7-5a53-403c-fb54-975a4a4e9d96"
      },
      "execution_count": 14,
      "outputs": [
        {
          "output_type": "execute_result",
          "data": {
            "text/plain": [
              "array([4.82899748])"
            ]
          },
          "metadata": {},
          "execution_count": 14
        }
      ]
    },
    {
      "cell_type": "code",
      "source": [
        "sgd_reg = SGDRegressor(penalty='l2', alpha=0.1 / m, tol=None,\n",
        "                       max_iter=1000, eta0=0.01, random_state=42).fit(X, y.ravel())\n",
        "\n",
        "sgd_reg.predict([[1.5]])"
      ],
      "metadata": {
        "colab": {
          "base_uri": "https://localhost:8080/"
        },
        "id": "QdbU5nXj71Me",
        "outputId": "490c7984-e76a-435a-83ff-f5deec68a34e"
      },
      "execution_count": 15,
      "outputs": [
        {
          "output_type": "execute_result",
          "data": {
            "text/plain": [
              "array([4.82830117])"
            ]
          },
          "metadata": {},
          "execution_count": 15
        }
      ]
    },
    {
      "cell_type": "markdown",
      "source": [
        "## **4.5.2 라쏘 회귀**"
      ],
      "metadata": {
        "id": "eZ_iODzP8tqE"
      }
    },
    {
      "cell_type": "markdown",
      "source": [
        "**라쏘 회귀**\n",
        "```\n",
        "라쏘 회귀는 선형 회귀의 한 종류로, L1 정규화를 적용한 모델입니다.\n",
        "릿지 회귀와 마찬가지로, 과적합을 방지하기 위해 사용되지만, 정규화 방식이 L1 규제입니다.\n",
        "L1 규제는 가중치의 절댓값 합을 패널티 항으로 추가하여 가중치가 0이 되도록 유도하는 특성을 가지고 있습니다.\n",
        "이로 인해 특성 선택이라는 중요한 특성을 가집니다.\n",
        "```\n",
        "$$J(\\theta) = MSE(\\theta) + 2\\alpha\\sum^{n}_{i=1}|\\theta_{i}|$$"
      ],
      "metadata": {
        "id": "YxkVs-uR8wRl"
      }
    },
    {
      "cell_type": "code",
      "source": [
        "from sklearn.linear_model import Lasso\n",
        "\n",
        "lasso_reg = Lasso(alpha=0.1).fit(X, y)\n",
        "lasso_reg.predict([[1.5]])"
      ],
      "metadata": {
        "colab": {
          "base_uri": "https://localhost:8080/"
        },
        "id": "xk665cyi87Ox",
        "outputId": "dccf9138-800e-4997-8dc2-8bb5c4be8b97"
      },
      "execution_count": 16,
      "outputs": [
        {
          "output_type": "execute_result",
          "data": {
            "text/plain": [
              "array([4.77621741])"
            ]
          },
          "metadata": {},
          "execution_count": 16
        }
      ]
    },
    {
      "cell_type": "markdown",
      "source": [
        "## **4.5.3 엘라스틱넷**"
      ],
      "metadata": {
        "id": "-kc6D39o9yHN"
      }
    },
    {
      "cell_type": "markdown",
      "source": [
        "**엘라스틱넷 회귀**\n",
        "```\n",
        "엘라스틱넷은 릿지 회귀와 라쏘 회귀의 특성을 결합한 정규화 기법입니다.\n",
        "즉, L1 정규화와 L2 정규화를 동시에 적용하여, 두 기법의 장점을 모두 취할 수 있도록 만들어졌습니다.\n",
        "이는 선형 회귀에서 과적합을 방지하고, 특성 선택을 하며, 다중공선성 문제를 해결할 수 있도록 돕습니다.\n",
        "```\n",
        "$$J(\\theta) = MSE(\\theta) + r(2\\alpha\\sum^{n}_{i=1}|\\theta_{i}|) + (1-r)(\\frac{\\alpha}{m}\\sum^{n}_{i=1}\\theta^{2}_{i})$$"
      ],
      "metadata": {
        "id": "bcQLq4qr913P"
      }
    },
    {
      "cell_type": "code",
      "source": [
        "from sklearn.linear_model import ElasticNet\n",
        "\n",
        "elastic_net = ElasticNet(alpha=0.1, l1_ratio=0.5).fit(X, y)\n",
        "elastic_net.predict([[1.5]])"
      ],
      "metadata": {
        "colab": {
          "base_uri": "https://localhost:8080/"
        },
        "id": "73P2c7SE-nRp",
        "outputId": "0159224f-a653-4205-e23c-0590b6266624"
      },
      "execution_count": 17,
      "outputs": [
        {
          "output_type": "execute_result",
          "data": {
            "text/plain": [
              "array([4.78114505])"
            ]
          },
          "metadata": {},
          "execution_count": 17
        }
      ]
    },
    {
      "cell_type": "markdown",
      "source": [
        "## **4.5.4 조기 종료**"
      ],
      "metadata": {
        "id": "ImN_YgGE-0oj"
      }
    },
    {
      "cell_type": "markdown",
      "source": [
        "**조기 종료**\n",
        "```\n",
        "조기 종료는 모델 학습 중 과적합을 방지하기 위한 기법으로,\n",
        "모델의 성능이 더 이상 개선되지 않거나 성능이 오히려 악화되기 시작할 때 학습을 중단하는 방법입니다.\n",
        "훈련 시간이 길어지거나 과적합이 발생할 가능성이 있을 때 유용합니다.\n",
        "```"
      ],
      "metadata": {
        "id": "OT_AVxW5_CF0"
      }
    },
    {
      "cell_type": "markdown",
      "source": [
        "# **4.6 로지스틱 회귀**"
      ],
      "metadata": {
        "id": "pm-1_Ze15AZ_"
      }
    },
    {
      "cell_type": "markdown",
      "source": [
        "**로지스틱 회귀**\n",
        "```\n",
        "로지스틱 회귀는 분류 문제를 해결하기 위한 통계적 모델로, 주로 두 가지 클래스를 예측하는 데 사용됩니다.\n",
        "간단히 말해서, 로지스틱 회귀는 데이터를 기반으로 특정 사건의 발생 확률을 예측합니다.\n",
        "```"
      ],
      "metadata": {
        "id": "ahz1SXDJVoho"
      }
    },
    {
      "cell_type": "markdown",
      "source": [
        "## **4.6.1 확률 추정**"
      ],
      "metadata": {
        "id": "NnSdH1Kg54dm"
      }
    },
    {
      "cell_type": "markdown",
      "source": [
        "**확률 추정**\n",
        "```\n",
        "선형 회귀 모델과 같이 로지스틱 회귀 모델은 입력 특성의 가중치 합을 계산합니다.\n",
        "대신 선형 회귀처럼 바로 결과를 출력하지 않고 결과값의 로지스틱을 출력합니다.\n",
        "\n",
        "+ 로지스틱\n",
        "로지스틱은 0과 1사이의 값을 출력하는 시그모이드 함수입니다.\n",
        "```\n",
        "$$\\hat{p} = h_{\\theta}(x) = \\sigma(\\theta^{T}x)$$\n",
        "$$\\sigma(t) = \\frac{1}{1+e^{-t}}$$"
      ],
      "metadata": {
        "id": "49IZphniV0-b"
      }
    },
    {
      "cell_type": "code",
      "source": [
        "from sklearn.datasets import load_iris\n",
        "\n",
        "iris = load_iris(as_frame=True)\n",
        "print('list(iris): \\n{}'.format(list(iris)))\n",
        "print('\\niris.target_names: \\n{}'.format(iris.target_names))\n",
        "print('\\niris.data.head(3): \\n{}'.format(iris.data.head(3)))"
      ],
      "metadata": {
        "colab": {
          "base_uri": "https://localhost:8080/"
        },
        "id": "7uZEvh4YVwBU",
        "outputId": "08738bce-b32a-49bc-8b7c-b96a7abaf6df"
      },
      "execution_count": 18,
      "outputs": [
        {
          "output_type": "stream",
          "name": "stdout",
          "text": [
            "list(iris): \n",
            "['data', 'target', 'frame', 'target_names', 'DESCR', 'feature_names', 'filename', 'data_module']\n",
            "\n",
            "iris.target_names: \n",
            "['setosa' 'versicolor' 'virginica']\n",
            "\n",
            "iris.data.head(3): \n",
            "   sepal length (cm)  sepal width (cm)  petal length (cm)  petal width (cm)\n",
            "0                5.1               3.5                1.4               0.2\n",
            "1                4.9               3.0                1.4               0.2\n",
            "2                4.7               3.2                1.3               0.2\n"
          ]
        }
      ]
    },
    {
      "cell_type": "code",
      "source": [
        "from sklearn.linear_model import LogisticRegression\n",
        "from sklearn.model_selection import train_test_split\n",
        "\n",
        "X = iris.data[['petal width (cm)']].values\n",
        "y = iris.target_names[iris.target] == 'virginica'\n",
        "X_train, X_test, y_train, y_test = train_test_split(X, y, random_state=42)\n",
        "\n",
        "log_reg = LogisticRegression(random_state=42).fit(X_train, y_train)\n",
        "\n",
        "X_new = np.linspace(0, 3, 1000).reshape(-1, 1) # 열 벡터로 바꿉니다.\n",
        "y_proba = log_reg.predict_proba(X_new)\n",
        "decision_boundary = X_new[y_proba[:, 1] >= 0.5][0, 0]\n",
        "\n",
        "plt.plot(X_new, y_proba[:, 0], 'b--', linewidth=2,\n",
        "         label='Not Iris-Virginica')\n",
        "plt.plot(X_new, y_proba[:, 1], 'g-', linewidth=2, label='Iris-Virginica')\n",
        "plt.plot([decision_boundary, decision_boundary], [0, 1], 'k:', linewidth=2,\n",
        "         label='Boundary')\n",
        "plt.ylabel('P')\n",
        "plt.xlabel('Width')\n",
        "plt.legend('best')"
      ],
      "metadata": {
        "colab": {
          "base_uri": "https://localhost:8080/",
          "height": 466
        },
        "id": "UgllIFOAXXKW",
        "outputId": "11c4d828-68dc-491a-fa11-0a77e8e02716"
      },
      "execution_count": 19,
      "outputs": [
        {
          "output_type": "execute_result",
          "data": {
            "text/plain": [
              "<matplotlib.legend.Legend at 0x7e19680e92d0>"
            ]
          },
          "metadata": {},
          "execution_count": 19
        },
        {
          "output_type": "display_data",
          "data": {
            "text/plain": [
              "<Figure size 640x480 with 1 Axes>"
            ],
            "image/png": "[encoded data removed]"
          },
          "metadata": {}
        }
      ]
    },
    {
      "cell_type": "code",
      "source": [
        "print('decision_boundary: {}'.format(decision_boundary))\n",
        "print('log_reg.predict: \\n{}'.format(log_reg.predict([[1.7], [1.5]])))"
      ],
      "metadata": {
        "colab": {
          "base_uri": "https://localhost:8080/"
        },
        "id": "ykStx99RYu0Z",
        "outputId": "a2408522-188a-43f4-a020-4cdd5160c260"
      },
      "execution_count": 20,
      "outputs": [
        {
          "output_type": "stream",
          "name": "stdout",
          "text": [
            "decision_boundary: 1.6516516516516517\n",
            "log_reg.predict: \n",
            "[ True False]\n"
          ]
        }
      ]
    },
    {
      "cell_type": "markdown",
      "source": [
        "## **4.6.2 소프트맥스 회귀**"
      ],
      "metadata": {
        "id": "KqAJ8SWqZTVU"
      }
    },
    {
      "cell_type": "markdown",
      "source": [
        "**소프트맥스 회귀**\n",
        "```\n",
        "소프트맥스 회귀는 다중 클래스 분류 문제를 해결하기 위한 모델로, 로지스틱 회귀를 확장한 형태입니다.\n",
        "로지스틱 회귀는 이진 분류 문제에 사용되지만, 소프트맥스 회귀는 여러 개의 클래스를 다룰 수 있는 방법을 제공합니다.\n",
        "샘플 x가 주어지면 먼저 소프트맥스 회귀 모델이 각 클래스 k에 대한 점수를 계산하고, 그 점수에 소프트맥스 함수를 적용하여 각 클래스의 확률을 추정합니다.\n",
        "```\n",
        "$$s_{k}(x) = (\\theta^{(k)})^{T}x$$\n",
        "$$\\hat{p_{k}} = \\sigma(s(x))_{k} = \\frac{e^{s_{k}(x)}}{\\sum^{K}_{j=1}e^{s_{j}(x)}}$$\n",
        "* $K$는 클래스 수입니다.\n",
        "* $s(x)$는 샘플 $x$에 대한 각 클래스의 점수를 담은 벡터입니다.\n",
        "* $\\sigma(s(x))_{k}$는 샘플 $x$에 대한 각 클래스의 점수가 주어졌을 때 이 샘플이 클래스 $k$에 속할 추정 확률입니다.\n",
        "$$\\hat{y} = argmax_{k}\\sigma(s(x))_{k} = argmax_{k}s_{k}(x) = argmax_{k}((\\theta^{(k)})^{T}x)$$\n",
        "\n",
        "**크로스 엔트로피**\n",
        "```\n",
        "크로스 엔트로피 비용 함수는 주로 분류 문제에서 모델의 예측과 실제 값 간의 차이를 측정하는 데 사용되는 손실 함수입니다.\n",
        "분류 문제에서 모델의 출력은 일반적으로 확률로 나타나며, 크로스 엔트로피는 모델이 예측한 확률 분포와 실제 클래스 분포 간의 차이를 계산합니다.\n",
        "```\n",
        "$$J(\\theta) = -\\frac{1}{m}\\sum^{m}_{i=1}\\sum^{K}_{k=1}y^{(i)}_{k}log(\\hat{p}_{k}^{(i)})$$\n",
        "$$\\Delta_{\\theta^{(k)}} J(\\theta) = \\frac{1}{m}\\sum^{m}_{i=1}(\\hat(p)^{(i)}_{k}-\\hat(y)^{(i)}_{k})x^{(i)}$$"
      ],
      "metadata": {
        "id": "9g2BdcEXZmJ3"
      }
    },
    {
      "cell_type": "code",
      "source": [
        "X = iris.data[['petal length (cm)', 'petal width (cm)']].values\n",
        "y = iris['target']\n",
        "X_train, X_test, y_train, y_test = train_test_split(X, y, random_state=42)\n",
        "\n",
        "softmax_reg = LogisticRegression(C=30, random_state=42).fit(X_train, y_train)\n",
        "print('softmax_reg.predict: \\n{}'.format(softmax_reg.predict([[5, 2]])))\n",
        "print('softmax_reg.predict_proba: \\n{}'.format(softmax_reg.predict_proba([[5, 2]]).round(2)))"
      ],
      "metadata": {
        "colab": {
          "base_uri": "https://localhost:8080/"
        },
        "id": "4w4IT0I8aMFg",
        "outputId": "02f772ee-0d72-476f-e175-c9dc6140bc5e"
      },
      "execution_count": 21,
      "outputs": [
        {
          "output_type": "stream",
          "name": "stdout",
          "text": [
            "softmax_reg.predict: \n",
            "[2]\n",
            "softmax_reg.predict_proba: \n",
            "[[0.   0.04 0.96]]\n"
          ]
        }
      ]
    }
  ]
}